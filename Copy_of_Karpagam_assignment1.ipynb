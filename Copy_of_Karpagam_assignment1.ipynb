{
  "nbformat": 4,
  "nbformat_minor": 0,
  "metadata": {
    "colab": {
      "name": "Copy of Karpagam_assignment1",
      "provenance": [],
      "collapsed_sections": [],
      "authorship_tag": "ABX9TyMtACBSbtOGE6SoS31To1M4",
      "include_colab_link": true
    },
    "kernelspec": {
      "name": "python3",
      "display_name": "Python 3"
    },
    "language_info": {
      "name": "python"
    }
  },
  "cells": [
    {
      "cell_type": "markdown",
      "metadata": {
        "id": "view-in-github",
        "colab_type": "text"
      },
      "source": [
        "<a href=\"https://colab.research.google.com/github/karpagamIyyappan/files/blob/main/Copy_of_Karpagam_assignment1.ipynb\" target=\"_parent\"><img src=\"https://colab.research.google.com/assets/colab-badge.svg\" alt=\"Open In Colab\"/></a>"
      ]
    },
    {
      "cell_type": "code",
      "metadata": {
        "colab": {
          "base_uri": "https://localhost:8080/"
        },
        "id": "qoSKZc34m2Zc",
        "outputId": "8329a498-b660-4934-f04d-146bf87f47fb"
      },
      "source": [
        "mobile_brand_list1 = [\"apple\",\"Nokia\",\"LG\",\"Samsung\"]\n",
        "mobile_brand_list2 = [\"LG\",\"one plus\",\"Oppo\"]\n",
        "print(mobile_brand_list1)\n",
        "print(mobile_brand_list2)"
      ],
      "execution_count": null,
      "outputs": [
        {
          "output_type": "stream",
          "text": [
            "['apple', 'Nokia', 'LG', 'Samsung']\n",
            "['LG', 'one plus', 'Oppo']\n"
          ],
          "name": "stdout"
        }
      ]
    },
    {
      "cell_type": "code",
      "metadata": {
        "colab": {
          "base_uri": "https://localhost:8080/"
        },
        "id": "u_hPcIBon35L",
        "outputId": "eb58a01d-7f89-421f-ced3-091cb35d8226"
      },
      "source": [
        "for brand in mobile_brand_list1:\n",
        " if brand in mobile_brand_list2:\n",
        "  print(brand)"
      ],
      "execution_count": null,
      "outputs": [
        {
          "output_type": "stream",
          "text": [
            "LG\n"
          ],
          "name": "stdout"
        }
      ]
    },
    {
      "cell_type": "code",
      "metadata": {
        "colab": {
          "base_uri": "https://localhost:8080/"
        },
        "id": "iHcV34m5oOTv",
        "outputId": "54235342-b914-4d4e-db53-eb1bcf7ee140"
      },
      "source": [
        " \n",
        "print(\"Even numbers from 20-40\")\n",
        "for num in range(20,40+1):\n",
        "  if num%2 == 0:\n",
        "    print(num)"
      ],
      "execution_count": null,
      "outputs": [
        {
          "output_type": "stream",
          "text": [
            "Even numbers from 20-40\n",
            "20\n",
            "22\n",
            "24\n",
            "26\n",
            "28\n",
            "30\n",
            "32\n",
            "34\n",
            "36\n",
            "38\n",
            "40\n"
          ],
          "name": "stdout"
        }
      ]
    }
  ]
}